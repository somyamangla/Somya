{
  "nbformat": 4,
  "nbformat_minor": 0,
  "metadata": {
    "colab": {
      "provenance": [],
      "authorship_tag": "ABX9TyOAOih/F7H2dj0canjqtnSq",
      "include_colab_link": true
    },
    "kernelspec": {
      "name": "python3",
      "display_name": "Python 3"
    },
    "language_info": {
      "name": "python"
    }
  },
  "cells": [
    {
      "cell_type": "markdown",
      "metadata": {
        "id": "view-in-github",
        "colab_type": "text"
      },
      "source": [
        "<a href=\"https://colab.research.google.com/github/somyamangla/Somya/blob/main/ASSIGNMENT_1_2.ipynb\" target=\"_parent\"><img src=\"https://colab.research.google.com/assets/colab-badge.svg\" alt=\"Open In Colab\"/></a>"
      ]
    },
    {
      "cell_type": "code",
      "execution_count": 1,
      "metadata": {
        "id": "x4SCUBbvHysZ"
      },
      "outputs": [],
      "source": [
        "import pandas as pd\n",
        "import numpy as np\n"
      ]
    },
    {
      "cell_type": "code",
      "source": [
        "d = {'Name':pd.Series([\"Tom\",\"James\", \"Ricky\",\"Vin\",\"Steve\",\"Smith\",\"Jack\"]), 'Age':pd.Series([25,26,25,23,30,29,23]),\n",
        "'Rating':pd.Series([4.23,3.24,3.98,2.56,3.20,4.6,3.8])}"
      ],
      "metadata": {
        "id": "mmBDI50YIJIm"
      },
      "execution_count": 9,
      "outputs": []
    },
    {
      "cell_type": "code",
      "source": [
        "for i in d :\n",
        "  print(d[i].shape)"
      ],
      "metadata": {
        "colab": {
          "base_uri": "https://localhost:8080/"
        },
        "id": "LSLli2bJK-4k",
        "outputId": "86e1b37c-f103-4190-958d-31b07e18db6a"
      },
      "execution_count": 13,
      "outputs": [
        {
          "output_type": "stream",
          "name": "stdout",
          "text": [
            "(7,)\n",
            "(7,)\n",
            "(7,)\n"
          ]
        }
      ]
    },
    {
      "cell_type": "code",
      "source": [
        "for i in d :\n",
        "  print(d[i].size)"
      ],
      "metadata": {
        "colab": {
          "base_uri": "https://localhost:8080/"
        },
        "id": "4td4m6r_Lvw0",
        "outputId": "f39dd74a-d1f7-4ca5-b4f5-b543add4b2b6"
      },
      "execution_count": 14,
      "outputs": [
        {
          "output_type": "stream",
          "name": "stdout",
          "text": [
            "7\n",
            "7\n",
            "7\n"
          ]
        }
      ]
    },
    {
      "cell_type": "code",
      "source": [
        "for i in d :\n",
        "  print(d[i].head())"
      ],
      "metadata": {
        "colab": {
          "base_uri": "https://localhost:8080/"
        },
        "id": "Z9vcEpqxLyLy",
        "outputId": "e4efa81d-0584-4f40-c326-db252eeb1b16"
      },
      "execution_count": 15,
      "outputs": [
        {
          "output_type": "stream",
          "name": "stdout",
          "text": [
            "0      Tom\n",
            "1    James\n",
            "2    Ricky\n",
            "3      Vin\n",
            "4    Steve\n",
            "dtype: object\n",
            "0    25\n",
            "1    26\n",
            "2    25\n",
            "3    23\n",
            "4    30\n",
            "dtype: int64\n",
            "0    4.23\n",
            "1    3.24\n",
            "2    3.98\n",
            "3    2.56\n",
            "4    3.20\n",
            "dtype: float64\n"
          ]
        }
      ]
    },
    {
      "cell_type": "code",
      "source": [
        "for i in d :\n",
        "  print(d[i].tail())"
      ],
      "metadata": {
        "colab": {
          "base_uri": "https://localhost:8080/"
        },
        "id": "tn3d9-9PL9XT",
        "outputId": "c8d849e6-e846-4df7-a99a-8293e3620d22"
      },
      "execution_count": 16,
      "outputs": [
        {
          "output_type": "stream",
          "name": "stdout",
          "text": [
            "2    Ricky\n",
            "3      Vin\n",
            "4    Steve\n",
            "5    Smith\n",
            "6     Jack\n",
            "dtype: object\n",
            "2    25\n",
            "3    23\n",
            "4    30\n",
            "5    29\n",
            "6    23\n",
            "dtype: int64\n",
            "2    3.98\n",
            "3    2.56\n",
            "4    3.20\n",
            "5    4.60\n",
            "6    3.80\n",
            "dtype: float64\n"
          ]
        }
      ]
    },
    {
      "cell_type": "code",
      "source": [
        "for i in d :\n",
        "    print(i, d[i].dtype)"
      ],
      "metadata": {
        "colab": {
          "base_uri": "https://localhost:8080/"
        },
        "id": "fmnWTsNkI7a7",
        "outputId": "8c27e5c4-0d58-440c-b9dd-18e566a829ec"
      },
      "execution_count": 11,
      "outputs": [
        {
          "output_type": "stream",
          "name": "stdout",
          "text": [
            "Name object\n",
            "Age int64\n",
            "Rating float64\n"
          ]
        }
      ]
    },
    {
      "cell_type": "code",
      "source": [
        "ipl_data = {'Team': ['Riders', 'Riders', 'Devils', 'Devils', 'Kings', 'kings', 'Kings', 'Kings', 'Riders', 'Royals', 'Royals', 'Riders'],\n",
        "            'Rank': [1,2,2,3,3,4,1,1,2,4,1,2],\n",
        "            'Year': [2014,2015,2014 ,2015, 2014, 2015 ,2016,2017,2016,2014,2015,2017],\n",
        "            'Points': [876,789,863,673,741,812,756,788,694,701,804,690]}\n",
        "df = pd.DataFrame(ipl_data)\n",
        "print(df)"
      ],
      "metadata": {
        "colab": {
          "base_uri": "https://localhost:8080/"
        },
        "id": "yaz9OvhsMj5J",
        "outputId": "9dd82af9-fa22-4a0d-fc93-f547597d53a3"
      },
      "execution_count": 19,
      "outputs": [
        {
          "output_type": "stream",
          "name": "stdout",
          "text": [
            "      Team  Rank  Year  Points\n",
            "0   Riders     1  2014     876\n",
            "1   Riders     2  2015     789\n",
            "2   Devils     2  2014     863\n",
            "3   Devils     3  2015     673\n",
            "4    Kings     3  2014     741\n",
            "5    kings     4  2015     812\n",
            "6    Kings     1  2016     756\n",
            "7    Kings     1  2017     788\n",
            "8   Riders     2  2016     694\n",
            "9   Royals     4  2014     701\n",
            "10  Royals     1  2015     804\n",
            "11  Riders     2  2017     690\n"
          ]
        }
      ]
    },
    {
      "cell_type": "code",
      "source": [
        "print(df.groupby('Team'))\n"
      ],
      "metadata": {
        "colab": {
          "base_uri": "https://localhost:8080/"
        },
        "id": "cefs4eyyOLNw",
        "outputId": "621556bd-6765-483b-b316-1bc39fc781ab"
      },
      "execution_count": 21,
      "outputs": [
        {
          "output_type": "stream",
          "name": "stdout",
          "text": [
            "<pandas.core.groupby.generic.DataFrameGroupBy object at 0x7fe0a19ce910>\n"
          ]
        }
      ]
    },
    {
      "cell_type": "code",
      "source": [
        "print(df.groupby('Team').groups)"
      ],
      "metadata": {
        "colab": {
          "base_uri": "https://localhost:8080/"
        },
        "id": "sS9oXwoyOmO7",
        "outputId": "30180a16-ac25-47d8-ec1c-ea5399ff5c27"
      },
      "execution_count": 22,
      "outputs": [
        {
          "output_type": "stream",
          "name": "stdout",
          "text": [
            "{'Devils': [2, 3], 'Kings': [4, 6, 7], 'Riders': [0, 1, 8, 11], 'Royals': [9, 10], 'kings': [5]}\n"
          ]
        }
      ]
    },
    {
      "cell_type": "code",
      "source": [
        "import numpy as np"
      ],
      "metadata": {
        "id": "ut8jV6LiPsTd"
      },
      "execution_count": 23,
      "outputs": []
    },
    {
      "cell_type": "code",
      "source": [
        "a = np.array([10,20,30])\n",
        "b=np.array([3,5,7])"
      ],
      "metadata": {
        "id": "J79N9GxRPsKg"
      },
      "execution_count": 24,
      "outputs": []
    },
    {
      "cell_type": "code",
      "source": [
        "np.power(a,b)"
      ],
      "metadata": {
        "colab": {
          "base_uri": "https://localhost:8080/"
        },
        "id": "nIgQPPztQIdk",
        "outputId": "7a3553ac-e5e6-46cc-977c-72602ec7836c"
      },
      "execution_count": 25,
      "outputs": [
        {
          "output_type": "execute_result",
          "data": {
            "text/plain": [
              "array([       1000,     3200000, 21870000000])"
            ]
          },
          "metadata": {},
          "execution_count": 25
        }
      ]
    },
    {
      "cell_type": "code",
      "source": [
        "np.mod(a,b)"
      ],
      "metadata": {
        "colab": {
          "base_uri": "https://localhost:8080/"
        },
        "id": "F5kXfhWOQWD2",
        "outputId": "7b32050d-1ddd-4194-be2c-ce2be00f4fa0"
      },
      "execution_count": 26,
      "outputs": [
        {
          "output_type": "execute_result",
          "data": {
            "text/plain": [
              "array([1, 0, 2])"
            ]
          },
          "metadata": {},
          "execution_count": 26
        }
      ]
    },
    {
      "cell_type": "code",
      "source": [
        "np.remainder(a,b)"
      ],
      "metadata": {
        "colab": {
          "base_uri": "https://localhost:8080/"
        },
        "id": "T-dMcVQrQrn2",
        "outputId": "0b7c3e4a-d636-484d-fdd4-59a64716f187"
      },
      "execution_count": 27,
      "outputs": [
        {
          "output_type": "execute_result",
          "data": {
            "text/plain": [
              "array([1, 0, 2])"
            ]
          },
          "metadata": {},
          "execution_count": 27
        }
      ]
    }
  ]
}